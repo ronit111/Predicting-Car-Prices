{
 "cells": [
  {
   "cell_type": "code",
   "execution_count": 1,
   "metadata": {
    "collapsed": false
   },
   "outputs": [],
   "source": [
    "import pandas as pd\n",
    "\n",
    "colnames = [\"symboling\",\"normalized_losses\",\"make\",\n",
    "            \"fuel_type\",\"aspiration\",\"num_doors\",\n",
    "            \"body_style\",\"drive_wheels\",\"engine_location\",\n",
    "            \"wheel_base\",\"length\",\"width\",\"height\",\n",
    "            \"curb_weight\",\"engine_type\",\"num_cylinders\",\n",
    "            \"engine_size\",\"fuel_system\",\"bore\",\"stroke\",\n",
    "            \"compression_ratio\",\"horsepower\",\"peak_rpm\",\n",
    "            \"city_mpg\",\"highway_mpg\",\"price\"]\n",
    "cars = pd.read_csv(\"imports-85.data\", names = colnames)"
   ]
  },
  {
   "cell_type": "code",
   "execution_count": 2,
   "metadata": {
    "collapsed": false
   },
   "outputs": [
    {
     "name": "stdout",
     "output_type": "stream",
     "text": [
      "<class 'pandas.core.frame.DataFrame'>\n",
      "RangeIndex: 205 entries, 0 to 204\n",
      "Data columns (total 26 columns):\n",
      "symboling            205 non-null int64\n",
      "normalized_losses    205 non-null object\n",
      "make                 205 non-null object\n",
      "fuel_type            205 non-null object\n",
      "aspiration           205 non-null object\n",
      "num_doors            205 non-null object\n",
      "body_style           205 non-null object\n",
      "drive_wheels         205 non-null object\n",
      "engine_location      205 non-null object\n",
      "wheel_base           205 non-null float64\n",
      "length               205 non-null float64\n",
      "width                205 non-null float64\n",
      "height               205 non-null float64\n",
      "curb_weight          205 non-null int64\n",
      "engine_type          205 non-null object\n",
      "num_cylinders        205 non-null object\n",
      "engine_size          205 non-null int64\n",
      "fuel_system          205 non-null object\n",
      "bore                 205 non-null object\n",
      "stroke               205 non-null object\n",
      "compression_ratio    205 non-null float64\n",
      "horsepower           205 non-null object\n",
      "peak_rpm             205 non-null object\n",
      "city_mpg             205 non-null int64\n",
      "highway_mpg          205 non-null int64\n",
      "price                205 non-null object\n",
      "dtypes: float64(5), int64(5), object(16)\n",
      "memory usage: 41.7+ KB\n"
     ]
    }
   ],
   "source": [
    "cars.info()"
   ]
  },
  {
   "cell_type": "code",
   "execution_count": 3,
   "metadata": {
    "collapsed": false
   },
   "outputs": [
    {
     "data": {
      "text/html": [
       "<div>\n",
       "<table border=\"1\" class=\"dataframe\">\n",
       "  <thead>\n",
       "    <tr style=\"text-align: right;\">\n",
       "      <th></th>\n",
       "      <th>symboling</th>\n",
       "      <th>normalized_losses</th>\n",
       "      <th>make</th>\n",
       "      <th>fuel_type</th>\n",
       "      <th>aspiration</th>\n",
       "      <th>num_doors</th>\n",
       "      <th>body_style</th>\n",
       "      <th>drive_wheels</th>\n",
       "      <th>engine_location</th>\n",
       "      <th>wheel_base</th>\n",
       "      <th>...</th>\n",
       "      <th>engine_size</th>\n",
       "      <th>fuel_system</th>\n",
       "      <th>bore</th>\n",
       "      <th>stroke</th>\n",
       "      <th>compression_ratio</th>\n",
       "      <th>horsepower</th>\n",
       "      <th>peak_rpm</th>\n",
       "      <th>city_mpg</th>\n",
       "      <th>highway_mpg</th>\n",
       "      <th>price</th>\n",
       "    </tr>\n",
       "  </thead>\n",
       "  <tbody>\n",
       "    <tr>\n",
       "      <th>0</th>\n",
       "      <td>3</td>\n",
       "      <td>?</td>\n",
       "      <td>alfa-romero</td>\n",
       "      <td>gas</td>\n",
       "      <td>std</td>\n",
       "      <td>two</td>\n",
       "      <td>convertible</td>\n",
       "      <td>rwd</td>\n",
       "      <td>front</td>\n",
       "      <td>88.6</td>\n",
       "      <td>...</td>\n",
       "      <td>130</td>\n",
       "      <td>mpfi</td>\n",
       "      <td>3.47</td>\n",
       "      <td>2.68</td>\n",
       "      <td>9.0</td>\n",
       "      <td>111</td>\n",
       "      <td>5000</td>\n",
       "      <td>21</td>\n",
       "      <td>27</td>\n",
       "      <td>13495</td>\n",
       "    </tr>\n",
       "    <tr>\n",
       "      <th>1</th>\n",
       "      <td>3</td>\n",
       "      <td>?</td>\n",
       "      <td>alfa-romero</td>\n",
       "      <td>gas</td>\n",
       "      <td>std</td>\n",
       "      <td>two</td>\n",
       "      <td>convertible</td>\n",
       "      <td>rwd</td>\n",
       "      <td>front</td>\n",
       "      <td>88.6</td>\n",
       "      <td>...</td>\n",
       "      <td>130</td>\n",
       "      <td>mpfi</td>\n",
       "      <td>3.47</td>\n",
       "      <td>2.68</td>\n",
       "      <td>9.0</td>\n",
       "      <td>111</td>\n",
       "      <td>5000</td>\n",
       "      <td>21</td>\n",
       "      <td>27</td>\n",
       "      <td>16500</td>\n",
       "    </tr>\n",
       "    <tr>\n",
       "      <th>2</th>\n",
       "      <td>1</td>\n",
       "      <td>?</td>\n",
       "      <td>alfa-romero</td>\n",
       "      <td>gas</td>\n",
       "      <td>std</td>\n",
       "      <td>two</td>\n",
       "      <td>hatchback</td>\n",
       "      <td>rwd</td>\n",
       "      <td>front</td>\n",
       "      <td>94.5</td>\n",
       "      <td>...</td>\n",
       "      <td>152</td>\n",
       "      <td>mpfi</td>\n",
       "      <td>2.68</td>\n",
       "      <td>3.47</td>\n",
       "      <td>9.0</td>\n",
       "      <td>154</td>\n",
       "      <td>5000</td>\n",
       "      <td>19</td>\n",
       "      <td>26</td>\n",
       "      <td>16500</td>\n",
       "    </tr>\n",
       "    <tr>\n",
       "      <th>3</th>\n",
       "      <td>2</td>\n",
       "      <td>164</td>\n",
       "      <td>audi</td>\n",
       "      <td>gas</td>\n",
       "      <td>std</td>\n",
       "      <td>four</td>\n",
       "      <td>sedan</td>\n",
       "      <td>fwd</td>\n",
       "      <td>front</td>\n",
       "      <td>99.8</td>\n",
       "      <td>...</td>\n",
       "      <td>109</td>\n",
       "      <td>mpfi</td>\n",
       "      <td>3.19</td>\n",
       "      <td>3.40</td>\n",
       "      <td>10.0</td>\n",
       "      <td>102</td>\n",
       "      <td>5500</td>\n",
       "      <td>24</td>\n",
       "      <td>30</td>\n",
       "      <td>13950</td>\n",
       "    </tr>\n",
       "    <tr>\n",
       "      <th>4</th>\n",
       "      <td>2</td>\n",
       "      <td>164</td>\n",
       "      <td>audi</td>\n",
       "      <td>gas</td>\n",
       "      <td>std</td>\n",
       "      <td>four</td>\n",
       "      <td>sedan</td>\n",
       "      <td>4wd</td>\n",
       "      <td>front</td>\n",
       "      <td>99.4</td>\n",
       "      <td>...</td>\n",
       "      <td>136</td>\n",
       "      <td>mpfi</td>\n",
       "      <td>3.19</td>\n",
       "      <td>3.40</td>\n",
       "      <td>8.0</td>\n",
       "      <td>115</td>\n",
       "      <td>5500</td>\n",
       "      <td>18</td>\n",
       "      <td>22</td>\n",
       "      <td>17450</td>\n",
       "    </tr>\n",
       "  </tbody>\n",
       "</table>\n",
       "<p>5 rows × 26 columns</p>\n",
       "</div>"
      ],
      "text/plain": [
       "   symboling normalized_losses         make fuel_type aspiration num_doors  \\\n",
       "0          3                 ?  alfa-romero       gas        std       two   \n",
       "1          3                 ?  alfa-romero       gas        std       two   \n",
       "2          1                 ?  alfa-romero       gas        std       two   \n",
       "3          2               164         audi       gas        std      four   \n",
       "4          2               164         audi       gas        std      four   \n",
       "\n",
       "    body_style drive_wheels engine_location  wheel_base  ...    engine_size  \\\n",
       "0  convertible          rwd           front        88.6  ...            130   \n",
       "1  convertible          rwd           front        88.6  ...            130   \n",
       "2    hatchback          rwd           front        94.5  ...            152   \n",
       "3        sedan          fwd           front        99.8  ...            109   \n",
       "4        sedan          4wd           front        99.4  ...            136   \n",
       "\n",
       "   fuel_system  bore  stroke compression_ratio horsepower  peak_rpm city_mpg  \\\n",
       "0         mpfi  3.47    2.68               9.0        111      5000       21   \n",
       "1         mpfi  3.47    2.68               9.0        111      5000       21   \n",
       "2         mpfi  2.68    3.47               9.0        154      5000       19   \n",
       "3         mpfi  3.19    3.40              10.0        102      5500       24   \n",
       "4         mpfi  3.19    3.40               8.0        115      5500       18   \n",
       "\n",
       "  highway_mpg  price  \n",
       "0          27  13495  \n",
       "1          27  16500  \n",
       "2          26  16500  \n",
       "3          30  13950  \n",
       "4          22  17450  \n",
       "\n",
       "[5 rows x 26 columns]"
      ]
     },
     "execution_count": 3,
     "metadata": {},
     "output_type": "execute_result"
    }
   ],
   "source": [
    "cars.head()"
   ]
  },
  {
   "cell_type": "code",
   "execution_count": 4,
   "metadata": {
    "collapsed": false
   },
   "outputs": [],
   "source": [
    "import numpy as np\n",
    "cars.replace(\"?\",np.nan, inplace = True)"
   ]
  },
  {
   "cell_type": "code",
   "execution_count": 5,
   "metadata": {
    "collapsed": false
   },
   "outputs": [],
   "source": [
    "cars.drop([\"normalized_losses\",\"fuel_system\"], axis = 1,inplace = True)\n",
    "cars.dropna(subset = [\"num_doors\",\"bore\",\"stroke\",\n",
    "                      \"horsepower\",\"peak_rpm\",\"price\"],\n",
    "           inplace = True)"
   ]
  },
  {
   "cell_type": "code",
   "execution_count": 6,
   "metadata": {
    "collapsed": false
   },
   "outputs": [
    {
     "name": "stdout",
     "output_type": "stream",
     "text": [
      "<class 'pandas.core.frame.DataFrame'>\n",
      "Int64Index: 193 entries, 0 to 204\n",
      "Data columns (total 24 columns):\n",
      "symboling            193 non-null int64\n",
      "make                 193 non-null object\n",
      "fuel_type            193 non-null object\n",
      "aspiration           193 non-null object\n",
      "num_doors            193 non-null object\n",
      "body_style           193 non-null object\n",
      "drive_wheels         193 non-null object\n",
      "engine_location      193 non-null object\n",
      "wheel_base           193 non-null float64\n",
      "length               193 non-null float64\n",
      "width                193 non-null float64\n",
      "height               193 non-null float64\n",
      "curb_weight          193 non-null int64\n",
      "engine_type          193 non-null object\n",
      "num_cylinders        193 non-null object\n",
      "engine_size          193 non-null int64\n",
      "bore                 193 non-null object\n",
      "stroke               193 non-null object\n",
      "compression_ratio    193 non-null float64\n",
      "horsepower           193 non-null object\n",
      "peak_rpm             193 non-null object\n",
      "city_mpg             193 non-null int64\n",
      "highway_mpg          193 non-null int64\n",
      "price                193 non-null object\n",
      "dtypes: float64(5), int64(5), object(14)\n",
      "memory usage: 37.7+ KB\n"
     ]
    }
   ],
   "source": [
    "cars.info()"
   ]
  },
  {
   "cell_type": "code",
   "execution_count": 7,
   "metadata": {
    "collapsed": false
   },
   "outputs": [
    {
     "name": "stdout",
     "output_type": "stream",
     "text": [
      "<class 'pandas.core.frame.DataFrame'>\n",
      "Int64Index: 193 entries, 0 to 204\n",
      "Data columns (total 24 columns):\n",
      "symboling            193 non-null int64\n",
      "make                 193 non-null object\n",
      "fuel_type            193 non-null object\n",
      "aspiration           193 non-null object\n",
      "num_doors            193 non-null object\n",
      "body_style           193 non-null object\n",
      "drive_wheels         193 non-null object\n",
      "engine_location      193 non-null object\n",
      "wheel_base           193 non-null float64\n",
      "length               193 non-null float64\n",
      "width                193 non-null float64\n",
      "height               193 non-null float64\n",
      "curb_weight          193 non-null int64\n",
      "engine_type          193 non-null object\n",
      "num_cylinders        193 non-null object\n",
      "engine_size          193 non-null int64\n",
      "bore                 193 non-null float64\n",
      "stroke               193 non-null float64\n",
      "compression_ratio    193 non-null float64\n",
      "horsepower           193 non-null float64\n",
      "peak_rpm             193 non-null float64\n",
      "city_mpg             193 non-null int64\n",
      "highway_mpg          193 non-null int64\n",
      "price                193 non-null float64\n",
      "dtypes: float64(10), int64(5), object(9)\n",
      "memory usage: 37.7+ KB\n"
     ]
    }
   ],
   "source": [
    "str_flt = [\"bore\",\"stroke\",\"horsepower\",\"peak_rpm\",\"price\"]\n",
    "\n",
    "for each in str_flt:\n",
    "    cars[each] = cars[each].astype(float)\n",
    "\n",
    "cars.info()"
   ]
  },
  {
   "cell_type": "code",
   "execution_count": 8,
   "metadata": {
    "collapsed": false
   },
   "outputs": [],
   "source": [
    "cols = [\"num_doors\",\"num_cylinders\"]\n",
    "doormap = {\"two\":2,\"four\":4}\n",
    "cmap = {\"three\":3,\"four\":4,\"five\":5,\"six\":6,\n",
    "        \"eight\":8,\"twelve\":12}\n",
    "\n",
    "dicts = [doormap,cmap]\n",
    "\n",
    "for d,c in zip(dicts,cols):\n",
    "    cars[c] = cars[c].map(d)\n",
    "    \n",
    "drop_cols = [\"make\",\"fuel_type\",\"aspiration\",\"body_style\",\n",
    "            \"drive_wheels\",\"engine_location\",\n",
    "            \"engine_type\",\"symboling\"]\n",
    "cars.drop(drop_cols, axis = 1, inplace = True)"
   ]
  },
  {
   "cell_type": "code",
   "execution_count": 9,
   "metadata": {
    "collapsed": false
   },
   "outputs": [],
   "source": [
    "carsn = cars.drop(\"price\",axis = 1)\n",
    "carsn = (carsn.max() - carsn)/carsn.max()"
   ]
  },
  {
   "cell_type": "code",
   "execution_count": 10,
   "metadata": {
    "collapsed": true
   },
   "outputs": [],
   "source": [
    "carsn[\"price\"] = cars[\"price\"]"
   ]
  },
  {
   "cell_type": "code",
   "execution_count": 11,
   "metadata": {
    "collapsed": false
   },
   "outputs": [],
   "source": [
    "from sklearn.neighbors import KNeighborsRegressor\n",
    "from sklearn.metrics import mean_squared_error\n",
    "\n",
    "def knn_train_test(traincol,target,df):\n",
    "    knn = KNeighborsRegressor()\n",
    "    np.random.seed(1)\n",
    "    df = df.reindex(np.random.permutation(df.index))\n",
    "    point = int(0.75*len(df))\n",
    "    train_df = df.iloc[0:point]\n",
    "    test_df = df.iloc[point:]\n",
    "    knn.fit(train_df[[traincol]],train_df[target])\n",
    "    p = knn.predict(test_df[[traincol]])\n",
    "    return np.sqrt(mean_squared_error(test_df[target],p))\n",
    "\n",
    "allcols = list(carsn.drop(\"price\",axis = 1).columns)\n",
    "rmses = {}\n",
    "\n",
    "for c in allcols:\n",
    "    rmses[c] = knn_train_test(c,\"price\",carsn)\n",
    "    \n",
    "urmses5 = pd.Series(rmses)\n",
    "urmses5 = urmses5.sort_values()"
   ]
  },
  {
   "cell_type": "code",
   "execution_count": 12,
   "metadata": {
    "collapsed": false
   },
   "outputs": [
    {
     "data": {
      "image/png": "[encoded data removed]",
      "text/plain": [
       "<matplotlib.figure.Figure at 0x7f7f8ee0a7f0>"
      ]
     },
     "metadata": {},
     "output_type": "display_data"
    },
    {
     "data": {
      "image/png": "[encoded data removed]",
      "text/plain": [
       "<matplotlib.figure.Figure at 0x7f7f8cb42ac8>"
      ]
     },
     "metadata": {},
     "output_type": "display_data"
    },
    {
     "data": {
      "text/plain": [
       "{'bore': {1: 13721.721675310788,\n",
       "  3: 6231.2458536707472,\n",
       "  5: 5817.407241255527,\n",
       "  7: 6507.1192862636462,\n",
       "  9: 6595.3097993351575},\n",
       " 'city_mpg': {1: 4318.0911882687333,\n",
       "  3: 3842.7941347286305,\n",
       "  5: 3772.1354683834907,\n",
       "  7: 4029.9498387747208,\n",
       "  9: 4237.4328843335734},\n",
       " 'compression_ratio': {1: 7476.1155771195099,\n",
       "  3: 5525.9208251644714,\n",
       "  5: 5472.3777387821438,\n",
       "  7: 5810.8933616577497,\n",
       "  9: 6813.0453453505634},\n",
       " 'curb_weight': {1: 5147.8170546913798,\n",
       "  3: 3528.5428515647645,\n",
       "  5: 3077.667127775152,\n",
       "  7: 2912.265704915445,\n",
       "  9: 2612.1426200579681},\n",
       " 'engine_size': {1: 2641.0106367967301,\n",
       "  3: 2711.2989214156823,\n",
       "  5: 3134.0469983322046,\n",
       "  7: 3236.5321877356732,\n",
       "  9: 2905.4590184835988},\n",
       " 'height': {1: 9908.285467120897,\n",
       "  3: 8368.4765016807978,\n",
       "  5: 8159.0573734760237,\n",
       "  7: 7852.2203191480494,\n",
       "  9: 7662.6944138810641},\n",
       " 'highway_mpg': {1: 4444.512078085163,\n",
       "  3: 3941.3285773516177,\n",
       "  5: 3287.996046102196,\n",
       "  7: 3102.8205121757915,\n",
       "  9: 3161.0655169290571},\n",
       " 'horsepower': {1: 4090.7452018088889,\n",
       "  3: 4115.3484694425706,\n",
       "  5: 4572.8509206009348,\n",
       "  7: 4792.7375715142616,\n",
       "  9: 4945.3318277055396},\n",
       " 'length': {1: 4209.8819751743586,\n",
       "  3: 5221.9677134633375,\n",
       "  5: 5345.1603791062571,\n",
       "  7: 5693.1835934362271,\n",
       "  9: 5584.5897740180089},\n",
       " 'num_cylinders': {1: 9930.644799954187,\n",
       "  3: 5682.179682220818,\n",
       "  5: 4584.1654417735645,\n",
       "  7: 4855.3299644967428,\n",
       "  9: 4791.9146280710274},\n",
       " 'num_doors': {1: 8970.2565772236685,\n",
       "  3: 8686.2973947959563,\n",
       "  5: 8125.7066401912998,\n",
       "  7: 7851.5363831552104,\n",
       "  9: 8419.041929389492},\n",
       " 'peak_rpm': {1: 5299.5588303101576,\n",
       "  3: 7188.7709953813583,\n",
       "  5: 7410.6602430800549,\n",
       "  7: 6797.9332057964966,\n",
       "  9: 7013.3222861417125},\n",
       " 'stroke': {1: 4699.8346323491605,\n",
       "  3: 5378.9326276829242,\n",
       "  5: 5945.5538189371018,\n",
       "  7: 6675.7562538336988,\n",
       "  9: 6783.454841435142},\n",
       " 'wheel_base': {1: 4423.976134286293,\n",
       "  3: 5133.5224530053638,\n",
       "  5: 5484.719658938172,\n",
       "  7: 5375.6039073000838,\n",
       "  9: 5408.2894380296111},\n",
       " 'width': {1: 3770.5896117726952,\n",
       "  3: 3438.4602678532501,\n",
       "  5: 3700.7302294304577,\n",
       "  7: 3431.1003340460211,\n",
       "  9: 3290.2930528519423}}"
      ]
     },
     "execution_count": 12,
     "metadata": {},
     "output_type": "execute_result"
    }
   ],
   "source": [
    "from sklearn.neighbors import KNeighborsRegressor\n",
    "from sklearn.metrics import mean_squared_error\n",
    "import matplotlib.pyplot as plt\n",
    "%matplotlib inline\n",
    "\n",
    "def knn_train_test(traincol,target,df,k):\n",
    "    knn = KNeighborsRegressor(n_neighbors = k)\n",
    "    np.random.seed(1)\n",
    "    df = df.reindex(np.random.permutation(df.index))\n",
    "    point = int(0.75*len(df))\n",
    "    train_df = df.iloc[0:point]\n",
    "    test_df = df.iloc[point:]\n",
    "    knn.fit(train_df[[traincol]],train_df[target])\n",
    "    p = knn.predict(test_df[[traincol]])\n",
    "    return np.sqrt(mean_squared_error(test_df[target],p))\n",
    "\n",
    "allcols = list(carsn.drop(\"price\",axis = 1).columns)\n",
    "urmsesk = {}\n",
    "k = [1,3,5,7,9]\n",
    "\n",
    "for c in allcols:\n",
    "    urmsesk[c] = {}\n",
    "    for n in k:\n",
    "        urmsesk[c][n] = knn_train_test(c,\"price\",carsn,n)\n",
    "\n",
    "for k in urmsesk:\n",
    "    plt.plot(list(urmsesk[k].keys()),list(urmsesk[k].values()))\n",
    "\n",
    "plt.show()\n",
    "        \n",
    "for k in urmsesk:\n",
    "    plt.scatter(list(urmsesk[k].keys()),list(urmsesk[k].values()))\n",
    "\n",
    "plt.show()\n",
    "urmsesk"
   ]
  },
  {
   "cell_type": "code",
   "execution_count": 13,
   "metadata": {
    "collapsed": false
   },
   "outputs": [
    {
     "data": {
      "text/plain": [
       "engine_size          2925.669553\n",
       "curb_weight          3455.687072\n",
       "width                3526.234699\n",
       "highway_mpg          3587.544546\n",
       "city_mpg             4040.080703\n",
       "horsepower           4503.402798\n",
       "wheel_base           5165.222318\n",
       "length               5210.956687\n",
       "stroke               5896.706435\n",
       "num_cylinders        5968.846903\n",
       "compression_ratio    6219.670570\n",
       "peak_rpm             6742.049112\n",
       "bore                 7774.560771\n",
       "height               8390.146815\n",
       "num_doors            8410.567785\n",
       "dtype: float64"
      ]
     },
     "execution_count": 13,
     "metadata": {},
     "output_type": "execute_result"
    }
   ],
   "source": [
    "avg_feature_rmses = {}\n",
    "\n",
    "for k,v in urmsesk.items():\n",
    "    avg_feature_rmses[k] = np.mean(list(v.values()))\n",
    "    \n",
    "avg_feature_rmses = pd.Series(avg_feature_rmses)\n",
    "avg_feature_rmses = avg_feature_rmses.sort_values()\n",
    "avg_feature_rmses"
   ]
  },
  {
   "cell_type": "code",
   "execution_count": 14,
   "metadata": {
    "collapsed": false
   },
   "outputs": [
    {
     "data": {
      "text/plain": [
       "3    2311.403347\n",
       "2    2430.813286\n",
       "4    2532.984854\n",
       "5    2906.590435\n",
       "dtype: float64"
      ]
     },
     "execution_count": 14,
     "metadata": {},
     "output_type": "execute_result"
    }
   ],
   "source": [
    "from sklearn.neighbors import KNeighborsRegressor\n",
    "from sklearn.metrics import mean_squared_error\n",
    "import matplotlib.pyplot as plt\n",
    "%matplotlib inline\n",
    "\n",
    "def knn_train_test(collist,target,df):\n",
    "    knn = KNeighborsRegressor()\n",
    "    np.random.seed(1)\n",
    "    df = df.reindex(np.random.permutation(df.index))\n",
    "    point = int(0.75*len(df))\n",
    "    train_df = df.iloc[0:point]\n",
    "    test_df = df.iloc[point:]\n",
    "    knn.fit(train_df[collist],train_df[target])\n",
    "    p = knn.predict(test_df[collist])\n",
    "    return np.sqrt(mean_squared_error(test_df[target],p))\n",
    "\n",
    "mrmses5 = {}\n",
    "\n",
    "nf = [2,3,4,5]\n",
    "\n",
    "for f in nf:\n",
    "    mrmses5[f] = knn_train_test(avg_feature_rmses[:f].index,\"price\",\n",
    "                                carsn)\n",
    "\n",
    "mrmses5 = pd.Series(mrmses5)\n",
    "mrmses5 = mrmses5.sort_values()\n",
    "mrmses5"
   ]
  },
  {
   "cell_type": "code",
   "execution_count": 15,
   "metadata": {
    "collapsed": false
   },
   "outputs": [
    {
     "data": {
      "text/plain": [
       "{2: {1: 2558.038673895072,\n",
       "  2: 2348.5545608970219,\n",
       "  3: 2213.3372080123449,\n",
       "  4: 2403.122628976299,\n",
       "  5: 2430.8132859231305,\n",
       "  6: 2339.145132938067,\n",
       "  7: 2339.4270236179241,\n",
       "  8: 2473.815874874404,\n",
       "  9: 2582.8037807519304,\n",
       "  10: 2503.9115707799497,\n",
       "  11: 2562.9643377989373,\n",
       "  12: 2681.7864237252984,\n",
       "  13: 2817.5883199051855,\n",
       "  14: 2832.9689197281664,\n",
       "  15: 2965.775590429781,\n",
       "  16: 3064.8786949405117,\n",
       "  17: 3023.8261077048946,\n",
       "  18: 3040.0251524246723,\n",
       "  19: 3065.2287846016266,\n",
       "  20: 3084.3636734010338,\n",
       "  21: 3085.714333817742,\n",
       "  22: 3127.0245502295365,\n",
       "  23: 3146.3272845318565,\n",
       "  24: 3157.1396436747455,\n",
       "  25: 3198.3496424505038},\n",
       " 3: {1: 2411.2497817945118,\n",
       "  2: 1892.1595318253562,\n",
       "  3: 2036.8522934435189,\n",
       "  4: 2394.4997078231827,\n",
       "  5: 2311.4033473813511,\n",
       "  6: 2365.1442699760314,\n",
       "  7: 2398.6016830963067,\n",
       "  8: 2455.4453143259793,\n",
       "  9: 2595.9544189810154,\n",
       "  10: 2557.087692182301,\n",
       "  11: 2551.6431342900942,\n",
       "  12: 2706.9688055776978,\n",
       "  13: 2815.8998415717051,\n",
       "  14: 2854.3203410495894,\n",
       "  15: 2975.2774532486083,\n",
       "  16: 3029.6500000573624,\n",
       "  17: 3136.3394744157299,\n",
       "  18: 3142.200920538261,\n",
       "  19: 3112.2946579546701,\n",
       "  20: 3150.9770910653042,\n",
       "  21: 3184.8941792090204,\n",
       "  22: 3146.147003986764,\n",
       "  23: 3135.1052444892744,\n",
       "  24: 3183.1878410573731,\n",
       "  25: 3223.4040744479039},\n",
       " 4: {1: 2179.0098903035791,\n",
       "  2: 2196.7274883706596,\n",
       "  3: 2653.4943311665243,\n",
       "  4: 2714.2646712060236,\n",
       "  5: 2532.9848536008717,\n",
       "  6: 2572.9088276891794,\n",
       "  7: 2814.1898964020256,\n",
       "  8: 2843.9123555918991,\n",
       "  9: 2830.2802414958605,\n",
       "  10: 2748.1752447983463,\n",
       "  11: 2748.8413546224238,\n",
       "  12: 2761.2016949198669,\n",
       "  13: 2845.2835422319813,\n",
       "  14: 2966.8992818437146,\n",
       "  15: 3012.5771751727593,\n",
       "  16: 3115.5805607412481,\n",
       "  17: 3129.8497939093104,\n",
       "  18: 3198.9426030469526,\n",
       "  19: 3245.2851705258408,\n",
       "  20: 3231.0373127649877,\n",
       "  21: 3229.1925597005711,\n",
       "  22: 3237.929282959838,\n",
       "  23: 3254.9522991370864,\n",
       "  24: 3265.1999604210228,\n",
       "  25: 3314.2131183970505}}"
      ]
     },
     "execution_count": 15,
     "metadata": {},
     "output_type": "execute_result"
    }
   ],
   "source": [
    "from sklearn.neighbors import KNeighborsRegressor\n",
    "from sklearn.metrics import mean_squared_error\n",
    "import matplotlib.pyplot as plt\n",
    "%matplotlib inline\n",
    "\n",
    "def knn_train_test(collist,target,df,k):\n",
    "    knn = KNeighborsRegressor(n_neighbors = k)\n",
    "    np.random.seed(1)\n",
    "    df = df.reindex(np.random.permutation(df.index))\n",
    "    point = int(0.75*len(df))\n",
    "    train_df = df.iloc[0:point]\n",
    "    test_df = df.iloc[point:]\n",
    "    knn.fit(train_df[collist],train_df[target])\n",
    "    p = knn.predict(test_df[collist])\n",
    "    return np.sqrt(mean_squared_error(test_df[target],p))\n",
    "\n",
    "mrmsesk = {}\n",
    "kvalues = [k+1 for k in range(25)]\n",
    "nf = [3,2,4]\n",
    "\n",
    "for f in nf:\n",
    "    mrmsesk[f] = {}\n",
    "    for k in kvalues:\n",
    "        mrmsesk[f][k] = knn_train_test(avg_feature_rmses[:f].index,\n",
    "                                       \"price\",carsn,k)\n",
    "        \n",
    "mrmsesk"
   ]
  },
  {
   "cell_type": "code",
   "execution_count": 18,
   "metadata": {
    "collapsed": false
   },
   "outputs": [
    {
     "data": {
      "text/plain": [
       "<matplotlib.text.Text at 0x7f7fd1cb5390>"
      ]
     },
     "execution_count": 18,
     "metadata": {},
     "output_type": "execute_result"
    },
    {
     "data": {
      "image/png": "[encoded data removed]",
      "text/plain": [
       "<matplotlib.figure.Figure at 0x7f7f90a935c0>"
      ]
     },
     "metadata": {},
     "output_type": "display_data"
    }
   ],
   "source": [
    "for k in mrmsesk:\n",
    "        plt.plot(list(mrmsesk[k].keys()),list(mrmsesk[k].values()))\n",
    "\n",
    "plt.xlabel('k value')\n",
    "plt.ylabel('RMSE')"
   ]
  },
  {
   "cell_type": "markdown",
   "metadata": {},
   "source": [
    "#### Takeaway:\n",
    "\n",
    "* Feature selection and hyperparameter tuning is quite an iterative process."
   ]
  },
  {
   "cell_type": "markdown",
   "metadata": {},
   "source": [
    "Inferences...??"
   ]
  },
  {
   "cell_type": "code",
   "execution_count": null,
   "metadata": {
    "collapsed": true
   },
   "outputs": [],
   "source": []
  }
 ],
 "metadata": {
  "kernelspec": {
   "display_name": "Python 3",
   "language": "python",
   "name": "python3"
  },
  "language_info": {
   "codemirror_mode": {
    "name": "ipython",
    "version": 3
   },
   "file_extension": ".py",
   "mimetype": "text/x-python",
   "name": "python",
   "nbconvert_exporter": "python",
   "pygments_lexer": "ipython3",
   "version": "3.4.3"
  }
 },
 "nbformat": 4,
 "nbformat_minor": 2
}
